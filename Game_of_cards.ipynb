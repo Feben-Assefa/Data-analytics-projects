{
  "cells": [
    {
      "cell_type": "markdown",
      "id": "0b7857ec-0711-48f4-9b1a-829187b994bb",
      "metadata": {
        "id": "0b7857ec-0711-48f4-9b1a-829187b994bb"
      },
      "source": [
        "### Name: Feben Assefa\n",
        "### Course: BUDT704\n",
        "### Section: (0501)\n",
        "### Date: 09/22/2021"
      ]
    },
    {
      "cell_type": "markdown",
      "id": "7dc3ceb3-701c-4040-8b8e-3fb5a830fc92",
      "metadata": {
        "id": "7dc3ceb3-701c-4040-8b8e-3fb5a830fc92"
      },
      "source": [
        "# Game of Cards with Python\n",
        "\n",
        "This is a game of cards that is performed using repetition, functions, and data structures. Only a total of 36 cards are used. It includes four Suites (Clubs, Diamonds, Hearts and Spades), and  uses only the numeric values from 2-10.\n",
        "\n",
        "Note: Only a game is performed in this document. There is no data analysis involved"
      ]
    },
    {
      "cell_type": "code",
      "execution_count": null,
      "id": "c964bf53-b7dc-45e0-a050-b0b9c3423b1b",
      "metadata": {
        "id": "c964bf53-b7dc-45e0-a050-b0b9c3423b1b",
        "outputId": "d62bd64c-fd03-475f-9f48-05b6fa28cbcb"
      },
      "outputs": [
        {
          "name": "stdout",
          "output_type": "stream",
          "text": [
            "Deck: [[2, 'Clubs'], [2, 'Diamonds'], [2, 'Hearts'], [2, 'Spades'], [3, 'Clubs'], [3, 'Diamonds'], [3, 'Hearts'], [3, 'Spades'], [4, 'Clubs'], [4, 'Diamonds'], [4, 'Hearts'], [4, 'Spades'], [5, 'Clubs'], [5, 'Diamonds'], [5, 'Hearts'], [5, 'Spades'], [6, 'Clubs'], [6, 'Diamonds'], [6, 'Hearts'], [6, 'Spades'], [7, 'Clubs'], [7, 'Diamonds'], [7, 'Hearts'], [7, 'Spades'], [8, 'Clubs'], [8, 'Diamonds'], [8, 'Hearts'], [8, 'Spades'], [9, 'Clubs'], [9, 'Diamonds'], [9, 'Hearts'], [9, 'Spades'], [10, 'Clubs'], [10, 'Diamonds'], [10, 'Hearts'], [10, 'Spades']]\n",
            "\n",
            "[2, 3, 4, 5, 6, 7, 8, 9, 10, 2, 3, 4, 5, 6, 7, 8, 9, 10, 2, 3, 4, 5, 6, 7, 8, 9, 10, 2, 3, 4, 5, 6, 7, 8, 9, 10]\n"
          ]
        }
      ],
      "source": [
        "import random\n",
        "\n",
        "# Create values that represent all the values in the deck\n",
        "\n",
        "values_in_deck = [2, 3, 4, 5, 6, 7, 8, 9, 10]\n",
        "\n",
        "# Create a deck consisting of 36 cards; Four Suites and nine numeric values\n",
        "\n",
        "deck = []\n",
        "suites= ['Clubs', 'Diamonds', 'Hearts', 'Spades']\n",
        "for value in values_in_deck:\n",
        "\tfor suite in suites:\n",
        "\t\tdeck.append([value, suite])\n",
        "print(f'Deck: {deck}\\n')\n",
        "\n",
        "deck1 = [2, 3, 4, 5, 6, 7, 8, 9, 10] * 4\n",
        "print(deck1)\n"
      ]
    },
    {
      "cell_type": "code",
      "execution_count": null,
      "id": "333a8655-dd66-4a2d-a1ff-155314e098d9",
      "metadata": {
        "id": "333a8655-dd66-4a2d-a1ff-155314e098d9",
        "outputId": "c03a079b-ce80-44b8-b39b-0ed033a01b81"
      },
      "outputs": [
        {
          "name": "stdout",
          "output_type": "stream",
          "text": [
            "Total number of points in the deck: 216\n",
            "\n"
          ]
        }
      ],
      "source": [
        "# Sum of total values in the deck\n",
        "\n",
        "total_deck_values = 0\n",
        "initial = 0\n",
        "for i in range(initial, len(deck)):\n",
        "    total_deck_values+=deck[i][initial]\n",
        "print (f'Total number of points in the deck: {total_deck_values}\\n')"
      ]
    },
    {
      "cell_type": "code",
      "execution_count": null,
      "id": "2bfc1902-dfce-473b-9b63-15014a88b757",
      "metadata": {
        "id": "2bfc1902-dfce-473b-9b63-15014a88b757"
      },
      "outputs": [],
      "source": [
        "# Create function that returns a tuple of two List of cards randomly dealt to two players\n",
        "\n",
        "def cards(deck):\n",
        "\trandom.seed(32)  # used seed to fix the random shuffle.\n",
        "\tplayer1 = random.sample(deck, k=18)\n",
        "\tplayer2 = []\n",
        "\ttotal_pts_player1 = []\n",
        "\tfor card in deck:\n",
        "\t\tif card not in player1:\n",
        "\t\t\tplayer2.append(card)\n",
        "\tplayer_one_two = (player1, player2)\n",
        "\n",
        "\treturn player_one_two"
      ]
    },
    {
      "cell_type": "code",
      "execution_count": null,
      "id": "5a936a13-85f4-400a-8c3e-c9d2fc15017a",
      "metadata": {
        "id": "5a936a13-85f4-400a-8c3e-c9d2fc15017a",
        "outputId": "0a4d745d-a446-4b76-9788-9d5e452e9169"
      },
      "outputs": [
        {
          "name": "stdout",
          "output_type": "stream",
          "text": [
            "The number of cards dealt to player one is: 18\n",
            "The number of cards dealt to player two is: 18\n",
            "\n"
          ]
        }
      ],
      "source": [
        "# Call the function that returns a tuple of two lists of player cards\n",
        "\n",
        "players=cards(deck)\n",
        "\n",
        "# Show the number of cards dealt to each player\n",
        "\n",
        "player1, player2 = players\n",
        "count1=0\n",
        "count2=0\n",
        "for card in player1:\n",
        "\tcount1 +=1\n",
        "for card in player2:\n",
        "\tcount2 +=1\n",
        "print(f'The number of cards dealt to player one is: {count1}')\n",
        "print(f'The number of cards dealt to player two is: {count2}\\n')"
      ]
    },
    {
      "cell_type": "code",
      "execution_count": null,
      "id": "528b7be7-b1ed-4be9-b368-22106b855868",
      "metadata": {
        "id": "528b7be7-b1ed-4be9-b368-22106b855868",
        "outputId": "472ae4f6-229a-4cff-c58f-5726289189be"
      },
      "outputs": [
        {
          "name": "stdout",
          "output_type": "stream",
          "text": [
            "Number of values dealt to player one is: 101\n",
            "Number of values dealt to player one is: 115\n",
            "\n"
          ]
        }
      ],
      "source": [
        "# Show the sum of cards dealt to player1 and player2\n",
        "\n",
        "total_values_player1 = 0\n",
        "total_values_player2 = 0\n",
        "initial_index = 0\n",
        "for i in range(initial_index, len(player1)):\n",
        "    total_values_player1 += player1[i][initial_index]\n",
        "for i in range(initial_index, len(player2)):\n",
        "    total_values_player2 += player2[i][initial_index]\n",
        "\n",
        "print(f'Number of values dealt to player one is: {total_values_player1}')\n",
        "print(f'Number of values dealt to player one is: {total_values_player2}\\n')\n"
      ]
    },
    {
      "cell_type": "code",
      "execution_count": null,
      "id": "5a527bfc-ed74-4817-92d3-e58104dc43bb",
      "metadata": {
        "id": "5a527bfc-ed74-4817-92d3-e58104dc43bb"
      },
      "outputs": [],
      "source": [
        "# Create a function that determines the winner of a single card game by comparing the first two cards drawn\n",
        "\n",
        "def game(player1, player2):\n",
        "\tround_num = 1\n",
        "\tprint(f'player1: {player1}\\n')\n",
        "\tprint(f'player2: {player2}\\n')\n",
        "\n",
        "# Iterate through the list of cards for each players until one of the players remains empty\n",
        "# The number 19 is predetermined and it is the round of game played until one of the players remains empty\n",
        "\n",
        "\tfor number in range(0,19):\n",
        "\t\tinitial = 0\n",
        "\t\tplayer1_card1 = player1[initial]\n",
        "\t\tplayer1_card2 = player1[initial+1]\n",
        "\t\tplayer2_card1 = player2[initial]\n",
        "\t\tplayer2_card2 = player2[initial+1]\n",
        "\n",
        "\t\tprint(f\"Round {round_num}: \\n\")\n",
        "\n",
        "# Compare the sum of values of the first two cards drawn by each player and add all set of cards to the winner\n",
        "\n",
        "\t\tif (player1_card1[initial] + player1_card2[initial]) > (player2_card1[initial] + player2_card2[initial]):\n",
        "\t\t\tdel(player1[:2])\n",
        "\t\t\tdel(player2[:2])\n",
        "\t\t\tplayer1.append(player1_card1)\n",
        "\t\t\tplayer1.append(player1_card2)\n",
        "\t\t\tplayer1.append(player2_card1)\n",
        "\t\t\tplayer1.append(player2_card2)\n",
        "\n",
        "\t\telif (player1_card1[initial] + player1_card2[initial]) < (player2_card1[initial] + player2_card2[initial]):\n",
        "\t\t\tdel(player1[:2])\n",
        "\t\t\tdel(player2[:2])\n",
        "\t\t\tplayer2.append(player1_card1)\n",
        "\t\t\tplayer2.append(player1_card2)\n",
        "\t\t\tplayer2.append(player2_card1)\n",
        "\t\t\tplayer2.append(player2_card2)\n",
        "\n",
        "# If it is a tie call the function again and repeat the steps above\n",
        "\n",
        "\t\telif (player1_card1[initial] + player1_card2[initial]) == (player2_card1[initial] + player2_card2[initial]):\n",
        "\t\t\tgame(player1, player2)\n",
        "\n",
        "\t\tround_num = round_num + 1\n",
        "\n",
        "\t\tprint(f\"List of cards player one has: {player1}\\n\")\n",
        "\t\tprint(f\"List of cards player two has: {player2}\\n\")\n",
        "\t\tprint(f\"Number of cards player one has: {len(player1)}\\n\")\n",
        "\t\tprint(f\"Number of cards player two has: {len(player2)}\\n\")\n",
        "\n",
        "\tprint(\"Winner is Player two!!!!!\")\n"
      ]
    },
    {
      "cell_type": "code",
      "execution_count": null,
      "id": "3ccaebb2-0fc9-4df0-bbf1-b60c2e4af93a",
      "metadata": {
        "id": "3ccaebb2-0fc9-4df0-bbf1-b60c2e4af93a",
        "outputId": "33e5ca5b-ad61-4510-d664-f4f62bc403d7"
      },
      "outputs": [
        {
          "name": "stdout",
          "output_type": "stream",
          "text": [
            "player1: [[3, 'Clubs'], [5, 'Diamonds'], [4, 'Diamonds'], [6, 'Spades'], [5, 'Spades'], [9, 'Spades'], [2, 'Clubs'], [7, 'Spades'], [2, 'Diamonds'], [2, 'Spades'], [4, 'Hearts'], [6, 'Clubs'], [8, 'Diamonds'], [8, 'Spades'], [8, 'Clubs'], [9, 'Hearts'], [4, 'Spades'], [9, 'Diamonds']]\n",
            "\n",
            "player2: [[2, 'Hearts'], [3, 'Diamonds'], [3, 'Hearts'], [3, 'Spades'], [4, 'Clubs'], [5, 'Clubs'], [5, 'Hearts'], [6, 'Diamonds'], [6, 'Hearts'], [7, 'Clubs'], [7, 'Diamonds'], [7, 'Hearts'], [8, 'Hearts'], [9, 'Clubs'], [10, 'Clubs'], [10, 'Diamonds'], [10, 'Hearts'], [10, 'Spades']]\n",
            "\n",
            "Round 1: \n",
            "\n",
            "List of cards player one has: [[4, 'Diamonds'], [6, 'Spades'], [5, 'Spades'], [9, 'Spades'], [2, 'Clubs'], [7, 'Spades'], [2, 'Diamonds'], [2, 'Spades'], [4, 'Hearts'], [6, 'Clubs'], [8, 'Diamonds'], [8, 'Spades'], [8, 'Clubs'], [9, 'Hearts'], [4, 'Spades'], [9, 'Diamonds'], [3, 'Clubs'], [5, 'Diamonds'], [2, 'Hearts'], [3, 'Diamonds']]\n",
            "\n",
            "List of cards player two has: [[3, 'Hearts'], [3, 'Spades'], [4, 'Clubs'], [5, 'Clubs'], [5, 'Hearts'], [6, 'Diamonds'], [6, 'Hearts'], [7, 'Clubs'], [7, 'Diamonds'], [7, 'Hearts'], [8, 'Hearts'], [9, 'Clubs'], [10, 'Clubs'], [10, 'Diamonds'], [10, 'Hearts'], [10, 'Spades']]\n",
            "\n",
            "Number of cards player one has: 20\n",
            "\n",
            "Number of cards player two has: 16\n",
            "\n",
            "Round 2: \n",
            "\n",
            "List of cards player one has: [[5, 'Spades'], [9, 'Spades'], [2, 'Clubs'], [7, 'Spades'], [2, 'Diamonds'], [2, 'Spades'], [4, 'Hearts'], [6, 'Clubs'], [8, 'Diamonds'], [8, 'Spades'], [8, 'Clubs'], [9, 'Hearts'], [4, 'Spades'], [9, 'Diamonds'], [3, 'Clubs'], [5, 'Diamonds'], [2, 'Hearts'], [3, 'Diamonds'], [4, 'Diamonds'], [6, 'Spades'], [3, 'Hearts'], [3, 'Spades']]\n",
            "\n",
            "List of cards player two has: [[4, 'Clubs'], [5, 'Clubs'], [5, 'Hearts'], [6, 'Diamonds'], [6, 'Hearts'], [7, 'Clubs'], [7, 'Diamonds'], [7, 'Hearts'], [8, 'Hearts'], [9, 'Clubs'], [10, 'Clubs'], [10, 'Diamonds'], [10, 'Hearts'], [10, 'Spades']]\n",
            "\n",
            "Number of cards player one has: 22\n",
            "\n",
            "Number of cards player two has: 14\n",
            "\n",
            "Round 3: \n",
            "\n",
            "List of cards player one has: [[2, 'Clubs'], [7, 'Spades'], [2, 'Diamonds'], [2, 'Spades'], [4, 'Hearts'], [6, 'Clubs'], [8, 'Diamonds'], [8, 'Spades'], [8, 'Clubs'], [9, 'Hearts'], [4, 'Spades'], [9, 'Diamonds'], [3, 'Clubs'], [5, 'Diamonds'], [2, 'Hearts'], [3, 'Diamonds'], [4, 'Diamonds'], [6, 'Spades'], [3, 'Hearts'], [3, 'Spades'], [5, 'Spades'], [9, 'Spades'], [4, 'Clubs'], [5, 'Clubs']]\n",
            "\n",
            "List of cards player two has: [[5, 'Hearts'], [6, 'Diamonds'], [6, 'Hearts'], [7, 'Clubs'], [7, 'Diamonds'], [7, 'Hearts'], [8, 'Hearts'], [9, 'Clubs'], [10, 'Clubs'], [10, 'Diamonds'], [10, 'Hearts'], [10, 'Spades']]\n",
            "\n",
            "Number of cards player one has: 24\n",
            "\n",
            "Number of cards player two has: 12\n",
            "\n",
            "Round 4: \n",
            "\n",
            "List of cards player one has: [[2, 'Diamonds'], [2, 'Spades'], [4, 'Hearts'], [6, 'Clubs'], [8, 'Diamonds'], [8, 'Spades'], [8, 'Clubs'], [9, 'Hearts'], [4, 'Spades'], [9, 'Diamonds'], [3, 'Clubs'], [5, 'Diamonds'], [2, 'Hearts'], [3, 'Diamonds'], [4, 'Diamonds'], [6, 'Spades'], [3, 'Hearts'], [3, 'Spades'], [5, 'Spades'], [9, 'Spades'], [4, 'Clubs'], [5, 'Clubs']]\n",
            "\n",
            "List of cards player two has: [[6, 'Hearts'], [7, 'Clubs'], [7, 'Diamonds'], [7, 'Hearts'], [8, 'Hearts'], [9, 'Clubs'], [10, 'Clubs'], [10, 'Diamonds'], [10, 'Hearts'], [10, 'Spades'], [2, 'Clubs'], [7, 'Spades'], [5, 'Hearts'], [6, 'Diamonds']]\n",
            "\n",
            "Number of cards player one has: 22\n",
            "\n",
            "Number of cards player two has: 14\n",
            "\n",
            "Round 5: \n",
            "\n",
            "List of cards player one has: [[4, 'Hearts'], [6, 'Clubs'], [8, 'Diamonds'], [8, 'Spades'], [8, 'Clubs'], [9, 'Hearts'], [4, 'Spades'], [9, 'Diamonds'], [3, 'Clubs'], [5, 'Diamonds'], [2, 'Hearts'], [3, 'Diamonds'], [4, 'Diamonds'], [6, 'Spades'], [3, 'Hearts'], [3, 'Spades'], [5, 'Spades'], [9, 'Spades'], [4, 'Clubs'], [5, 'Clubs']]\n",
            "\n",
            "List of cards player two has: [[7, 'Diamonds'], [7, 'Hearts'], [8, 'Hearts'], [9, 'Clubs'], [10, 'Clubs'], [10, 'Diamonds'], [10, 'Hearts'], [10, 'Spades'], [2, 'Clubs'], [7, 'Spades'], [5, 'Hearts'], [6, 'Diamonds'], [2, 'Diamonds'], [2, 'Spades'], [6, 'Hearts'], [7, 'Clubs']]\n",
            "\n",
            "Number of cards player one has: 20\n",
            "\n",
            "Number of cards player two has: 16\n",
            "\n",
            "Round 6: \n",
            "\n",
            "List of cards player one has: [[8, 'Diamonds'], [8, 'Spades'], [8, 'Clubs'], [9, 'Hearts'], [4, 'Spades'], [9, 'Diamonds'], [3, 'Clubs'], [5, 'Diamonds'], [2, 'Hearts'], [3, 'Diamonds'], [4, 'Diamonds'], [6, 'Spades'], [3, 'Hearts'], [3, 'Spades'], [5, 'Spades'], [9, 'Spades'], [4, 'Clubs'], [5, 'Clubs']]\n",
            "\n",
            "List of cards player two has: [[8, 'Hearts'], [9, 'Clubs'], [10, 'Clubs'], [10, 'Diamonds'], [10, 'Hearts'], [10, 'Spades'], [2, 'Clubs'], [7, 'Spades'], [5, 'Hearts'], [6, 'Diamonds'], [2, 'Diamonds'], [2, 'Spades'], [6, 'Hearts'], [7, 'Clubs'], [4, 'Hearts'], [6, 'Clubs'], [7, 'Diamonds'], [7, 'Hearts']]\n",
            "\n",
            "Number of cards player one has: 18\n",
            "\n",
            "Number of cards player two has: 18\n",
            "\n",
            "Round 7: \n",
            "\n",
            "List of cards player one has: [[8, 'Clubs'], [9, 'Hearts'], [4, 'Spades'], [9, 'Diamonds'], [3, 'Clubs'], [5, 'Diamonds'], [2, 'Hearts'], [3, 'Diamonds'], [4, 'Diamonds'], [6, 'Spades'], [3, 'Hearts'], [3, 'Spades'], [5, 'Spades'], [9, 'Spades'], [4, 'Clubs'], [5, 'Clubs']]\n",
            "\n",
            "List of cards player two has: [[10, 'Clubs'], [10, 'Diamonds'], [10, 'Hearts'], [10, 'Spades'], [2, 'Clubs'], [7, 'Spades'], [5, 'Hearts'], [6, 'Diamonds'], [2, 'Diamonds'], [2, 'Spades'], [6, 'Hearts'], [7, 'Clubs'], [4, 'Hearts'], [6, 'Clubs'], [7, 'Diamonds'], [7, 'Hearts'], [8, 'Diamonds'], [8, 'Spades'], [8, 'Hearts'], [9, 'Clubs']]\n",
            "\n",
            "Number of cards player one has: 16\n",
            "\n",
            "Number of cards player two has: 20\n",
            "\n",
            "Round 8: \n",
            "\n",
            "List of cards player one has: [[4, 'Spades'], [9, 'Diamonds'], [3, 'Clubs'], [5, 'Diamonds'], [2, 'Hearts'], [3, 'Diamonds'], [4, 'Diamonds'], [6, 'Spades'], [3, 'Hearts'], [3, 'Spades'], [5, 'Spades'], [9, 'Spades'], [4, 'Clubs'], [5, 'Clubs']]\n",
            "\n",
            "List of cards player two has: [[10, 'Hearts'], [10, 'Spades'], [2, 'Clubs'], [7, 'Spades'], [5, 'Hearts'], [6, 'Diamonds'], [2, 'Diamonds'], [2, 'Spades'], [6, 'Hearts'], [7, 'Clubs'], [4, 'Hearts'], [6, 'Clubs'], [7, 'Diamonds'], [7, 'Hearts'], [8, 'Diamonds'], [8, 'Spades'], [8, 'Hearts'], [9, 'Clubs'], [8, 'Clubs'], [9, 'Hearts'], [10, 'Clubs'], [10, 'Diamonds']]\n",
            "\n",
            "Number of cards player one has: 14\n",
            "\n",
            "Number of cards player two has: 22\n",
            "\n",
            "Round 9: \n",
            "\n",
            "List of cards player one has: [[3, 'Clubs'], [5, 'Diamonds'], [2, 'Hearts'], [3, 'Diamonds'], [4, 'Diamonds'], [6, 'Spades'], [3, 'Hearts'], [3, 'Spades'], [5, 'Spades'], [9, 'Spades'], [4, 'Clubs'], [5, 'Clubs']]\n",
            "\n",
            "List of cards player two has: [[2, 'Clubs'], [7, 'Spades'], [5, 'Hearts'], [6, 'Diamonds'], [2, 'Diamonds'], [2, 'Spades'], [6, 'Hearts'], [7, 'Clubs'], [4, 'Hearts'], [6, 'Clubs'], [7, 'Diamonds'], [7, 'Hearts'], [8, 'Diamonds'], [8, 'Spades'], [8, 'Hearts'], [9, 'Clubs'], [8, 'Clubs'], [9, 'Hearts'], [10, 'Clubs'], [10, 'Diamonds'], [4, 'Spades'], [9, 'Diamonds'], [10, 'Hearts'], [10, 'Spades']]\n",
            "\n",
            "Number of cards player one has: 12\n",
            "\n",
            "Number of cards player two has: 24\n",
            "\n",
            "Round 10: \n",
            "\n",
            "List of cards player one has: [[2, 'Hearts'], [3, 'Diamonds'], [4, 'Diamonds'], [6, 'Spades'], [3, 'Hearts'], [3, 'Spades'], [5, 'Spades'], [9, 'Spades'], [4, 'Clubs'], [5, 'Clubs']]\n",
            "\n",
            "List of cards player two has: [[5, 'Hearts'], [6, 'Diamonds'], [2, 'Diamonds'], [2, 'Spades'], [6, 'Hearts'], [7, 'Clubs'], [4, 'Hearts'], [6, 'Clubs'], [7, 'Diamonds'], [7, 'Hearts'], [8, 'Diamonds'], [8, 'Spades'], [8, 'Hearts'], [9, 'Clubs'], [8, 'Clubs'], [9, 'Hearts'], [10, 'Clubs'], [10, 'Diamonds'], [4, 'Spades'], [9, 'Diamonds'], [10, 'Hearts'], [10, 'Spades'], [3, 'Clubs'], [5, 'Diamonds'], [2, 'Clubs'], [7, 'Spades']]\n",
            "\n",
            "Number of cards player one has: 10\n",
            "\n",
            "Number of cards player two has: 26\n",
            "\n",
            "Round 11: \n",
            "\n",
            "List of cards player one has: [[4, 'Diamonds'], [6, 'Spades'], [3, 'Hearts'], [3, 'Spades'], [5, 'Spades'], [9, 'Spades'], [4, 'Clubs'], [5, 'Clubs']]\n",
            "\n",
            "List of cards player two has: [[2, 'Diamonds'], [2, 'Spades'], [6, 'Hearts'], [7, 'Clubs'], [4, 'Hearts'], [6, 'Clubs'], [7, 'Diamonds'], [7, 'Hearts'], [8, 'Diamonds'], [8, 'Spades'], [8, 'Hearts'], [9, 'Clubs'], [8, 'Clubs'], [9, 'Hearts'], [10, 'Clubs'], [10, 'Diamonds'], [4, 'Spades'], [9, 'Diamonds'], [10, 'Hearts'], [10, 'Spades'], [3, 'Clubs'], [5, 'Diamonds'], [2, 'Clubs'], [7, 'Spades'], [2, 'Hearts'], [3, 'Diamonds'], [5, 'Hearts'], [6, 'Diamonds']]\n",
            "\n",
            "Number of cards player one has: 8\n",
            "\n",
            "Number of cards player two has: 28\n",
            "\n",
            "Round 12: \n",
            "\n",
            "List of cards player one has: [[3, 'Hearts'], [3, 'Spades'], [5, 'Spades'], [9, 'Spades'], [4, 'Clubs'], [5, 'Clubs'], [4, 'Diamonds'], [6, 'Spades'], [2, 'Diamonds'], [2, 'Spades']]\n",
            "\n",
            "List of cards player two has: [[6, 'Hearts'], [7, 'Clubs'], [4, 'Hearts'], [6, 'Clubs'], [7, 'Diamonds'], [7, 'Hearts'], [8, 'Diamonds'], [8, 'Spades'], [8, 'Hearts'], [9, 'Clubs'], [8, 'Clubs'], [9, 'Hearts'], [10, 'Clubs'], [10, 'Diamonds'], [4, 'Spades'], [9, 'Diamonds'], [10, 'Hearts'], [10, 'Spades'], [3, 'Clubs'], [5, 'Diamonds'], [2, 'Clubs'], [7, 'Spades'], [2, 'Hearts'], [3, 'Diamonds'], [5, 'Hearts'], [6, 'Diamonds']]\n",
            "\n",
            "Number of cards player one has: 10\n",
            "\n",
            "Number of cards player two has: 26\n",
            "\n",
            "Round 13: \n",
            "\n",
            "List of cards player one has: [[5, 'Spades'], [9, 'Spades'], [4, 'Clubs'], [5, 'Clubs'], [4, 'Diamonds'], [6, 'Spades'], [2, 'Diamonds'], [2, 'Spades']]\n",
            "\n",
            "List of cards player two has: [[4, 'Hearts'], [6, 'Clubs'], [7, 'Diamonds'], [7, 'Hearts'], [8, 'Diamonds'], [8, 'Spades'], [8, 'Hearts'], [9, 'Clubs'], [8, 'Clubs'], [9, 'Hearts'], [10, 'Clubs'], [10, 'Diamonds'], [4, 'Spades'], [9, 'Diamonds'], [10, 'Hearts'], [10, 'Spades'], [3, 'Clubs'], [5, 'Diamonds'], [2, 'Clubs'], [7, 'Spades'], [2, 'Hearts'], [3, 'Diamonds'], [5, 'Hearts'], [6, 'Diamonds'], [3, 'Hearts'], [3, 'Spades'], [6, 'Hearts'], [7, 'Clubs']]\n",
            "\n",
            "Number of cards player one has: 8\n",
            "\n",
            "Number of cards player two has: 28\n",
            "\n",
            "Round 14: \n",
            "\n",
            "List of cards player one has: [[4, 'Clubs'], [5, 'Clubs'], [4, 'Diamonds'], [6, 'Spades'], [2, 'Diamonds'], [2, 'Spades'], [5, 'Spades'], [9, 'Spades'], [4, 'Hearts'], [6, 'Clubs']]\n",
            "\n",
            "List of cards player two has: [[7, 'Diamonds'], [7, 'Hearts'], [8, 'Diamonds'], [8, 'Spades'], [8, 'Hearts'], [9, 'Clubs'], [8, 'Clubs'], [9, 'Hearts'], [10, 'Clubs'], [10, 'Diamonds'], [4, 'Spades'], [9, 'Diamonds'], [10, 'Hearts'], [10, 'Spades'], [3, 'Clubs'], [5, 'Diamonds'], [2, 'Clubs'], [7, 'Spades'], [2, 'Hearts'], [3, 'Diamonds'], [5, 'Hearts'], [6, 'Diamonds'], [3, 'Hearts'], [3, 'Spades'], [6, 'Hearts'], [7, 'Clubs']]\n",
            "\n",
            "Number of cards player one has: 10\n",
            "\n",
            "Number of cards player two has: 26\n",
            "\n",
            "Round 15: \n",
            "\n",
            "List of cards player one has: [[4, 'Diamonds'], [6, 'Spades'], [2, 'Diamonds'], [2, 'Spades'], [5, 'Spades'], [9, 'Spades'], [4, 'Hearts'], [6, 'Clubs']]\n",
            "\n",
            "List of cards player two has: [[8, 'Diamonds'], [8, 'Spades'], [8, 'Hearts'], [9, 'Clubs'], [8, 'Clubs'], [9, 'Hearts'], [10, 'Clubs'], [10, 'Diamonds'], [4, 'Spades'], [9, 'Diamonds'], [10, 'Hearts'], [10, 'Spades'], [3, 'Clubs'], [5, 'Diamonds'], [2, 'Clubs'], [7, 'Spades'], [2, 'Hearts'], [3, 'Diamonds'], [5, 'Hearts'], [6, 'Diamonds'], [3, 'Hearts'], [3, 'Spades'], [6, 'Hearts'], [7, 'Clubs'], [4, 'Clubs'], [5, 'Clubs'], [7, 'Diamonds'], [7, 'Hearts']]\n",
            "\n",
            "Number of cards player one has: 8\n",
            "\n",
            "Number of cards player two has: 28\n",
            "\n",
            "Round 16: \n",
            "\n",
            "List of cards player one has: [[2, 'Diamonds'], [2, 'Spades'], [5, 'Spades'], [9, 'Spades'], [4, 'Hearts'], [6, 'Clubs']]\n",
            "\n",
            "List of cards player two has: [[8, 'Hearts'], [9, 'Clubs'], [8, 'Clubs'], [9, 'Hearts'], [10, 'Clubs'], [10, 'Diamonds'], [4, 'Spades'], [9, 'Diamonds'], [10, 'Hearts'], [10, 'Spades'], [3, 'Clubs'], [5, 'Diamonds'], [2, 'Clubs'], [7, 'Spades'], [2, 'Hearts'], [3, 'Diamonds'], [5, 'Hearts'], [6, 'Diamonds'], [3, 'Hearts'], [3, 'Spades'], [6, 'Hearts'], [7, 'Clubs'], [4, 'Clubs'], [5, 'Clubs'], [7, 'Diamonds'], [7, 'Hearts'], [4, 'Diamonds'], [6, 'Spades'], [8, 'Diamonds'], [8, 'Spades']]\n",
            "\n",
            "Number of cards player one has: 6\n",
            "\n",
            "Number of cards player two has: 30\n",
            "\n",
            "Round 17: \n",
            "\n",
            "List of cards player one has: [[5, 'Spades'], [9, 'Spades'], [4, 'Hearts'], [6, 'Clubs']]\n",
            "\n",
            "List of cards player two has: [[8, 'Clubs'], [9, 'Hearts'], [10, 'Clubs'], [10, 'Diamonds'], [4, 'Spades'], [9, 'Diamonds'], [10, 'Hearts'], [10, 'Spades'], [3, 'Clubs'], [5, 'Diamonds'], [2, 'Clubs'], [7, 'Spades'], [2, 'Hearts'], [3, 'Diamonds'], [5, 'Hearts'], [6, 'Diamonds'], [3, 'Hearts'], [3, 'Spades'], [6, 'Hearts'], [7, 'Clubs'], [4, 'Clubs'], [5, 'Clubs'], [7, 'Diamonds'], [7, 'Hearts'], [4, 'Diamonds'], [6, 'Spades'], [8, 'Diamonds'], [8, 'Spades'], [2, 'Diamonds'], [2, 'Spades'], [8, 'Hearts'], [9, 'Clubs']]\n",
            "\n",
            "Number of cards player one has: 4\n",
            "\n",
            "Number of cards player two has: 32\n",
            "\n",
            "Round 18: \n",
            "\n",
            "List of cards player one has: [[4, 'Hearts'], [6, 'Clubs']]\n",
            "\n",
            "List of cards player two has: [[10, 'Clubs'], [10, 'Diamonds'], [4, 'Spades'], [9, 'Diamonds'], [10, 'Hearts'], [10, 'Spades'], [3, 'Clubs'], [5, 'Diamonds'], [2, 'Clubs'], [7, 'Spades'], [2, 'Hearts'], [3, 'Diamonds'], [5, 'Hearts'], [6, 'Diamonds'], [3, 'Hearts'], [3, 'Spades'], [6, 'Hearts'], [7, 'Clubs'], [4, 'Clubs'], [5, 'Clubs'], [7, 'Diamonds'], [7, 'Hearts'], [4, 'Diamonds'], [6, 'Spades'], [8, 'Diamonds'], [8, 'Spades'], [2, 'Diamonds'], [2, 'Spades'], [8, 'Hearts'], [9, 'Clubs'], [5, 'Spades'], [9, 'Spades'], [8, 'Clubs'], [9, 'Hearts']]\n",
            "\n",
            "Number of cards player one has: 2\n",
            "\n",
            "Number of cards player two has: 34\n",
            "\n",
            "Round 19: \n",
            "\n",
            "List of cards player one has: []\n",
            "\n",
            "List of cards player two has: [[4, 'Spades'], [9, 'Diamonds'], [10, 'Hearts'], [10, 'Spades'], [3, 'Clubs'], [5, 'Diamonds'], [2, 'Clubs'], [7, 'Spades'], [2, 'Hearts'], [3, 'Diamonds'], [5, 'Hearts'], [6, 'Diamonds'], [3, 'Hearts'], [3, 'Spades'], [6, 'Hearts'], [7, 'Clubs'], [4, 'Clubs'], [5, 'Clubs'], [7, 'Diamonds'], [7, 'Hearts'], [4, 'Diamonds'], [6, 'Spades'], [8, 'Diamonds'], [8, 'Spades'], [2, 'Diamonds'], [2, 'Spades'], [8, 'Hearts'], [9, 'Clubs'], [5, 'Spades'], [9, 'Spades'], [8, 'Clubs'], [9, 'Hearts'], [4, 'Hearts'], [6, 'Clubs'], [10, 'Clubs'], [10, 'Diamonds']]\n",
            "\n",
            "Number of cards player one has: 0\n",
            "\n",
            "Number of cards player two has: 36\n",
            "\n",
            "Winner is Player two!!!!!\n"
          ]
        }
      ],
      "source": [
        "# Invoke function that runs the cards game\n",
        "\n",
        "game(player1, player2)\n"
      ]
    },
    {
      "cell_type": "markdown",
      "id": "83a5c823-380e-4a1b-8623-52d8294e8399",
      "metadata": {
        "id": "83a5c823-380e-4a1b-8623-52d8294e8399"
      },
      "source": [
        "There were 19 rounds in this game. The game run until one player was emptied of card and that was player one."
      ]
    },
    {
      "cell_type": "markdown",
      "id": "b09ca7e6-dc26-4095-98e9-c52f82612eb7",
      "metadata": {
        "id": "b09ca7e6-dc26-4095-98e9-c52f82612eb7"
      },
      "source": [
        "### \"I pledge on my honor that I have not given nor received any unauthorized assistance on this assignment.\" Feben Assefa "
      ]
    },
    {
      "cell_type": "code",
      "execution_count": null,
      "id": "5e5eba36-15b9-4ff9-b5cc-532ea52e1ec8",
      "metadata": {
        "id": "5e5eba36-15b9-4ff9-b5cc-532ea52e1ec8"
      },
      "outputs": [],
      "source": []
    }
  ],
  "metadata": {
    "kernelspec": {
      "display_name": "Python 3",
      "language": "python",
      "name": "python3"
    },
    "language_info": {
      "codemirror_mode": {
        "name": "ipython",
        "version": 3
      },
      "file_extension": ".py",
      "mimetype": "text/x-python",
      "name": "python",
      "nbconvert_exporter": "python",
      "pygments_lexer": "ipython3",
      "version": "3.8.8"
    },
    "toc-autonumbering": true,
    "toc-showmarkdowntxt": false,
    "colab": {
      "provenance": []
    }
  },
  "nbformat": 4,
  "nbformat_minor": 5
}