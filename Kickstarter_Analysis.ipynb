{
  "cells": [
    {
      "cell_type": "markdown",
      "id": "83c4de53-adaf-4676-8da1-e7d85ecb94af",
      "metadata": {
        "id": "83c4de53-adaf-4676-8da1-e7d85ecb94af"
      },
      "source": [
        "# Kickstarter Analysis"
      ]
    },
    {
      "cell_type": "markdown",
      "id": "7cb83433-5a90-48c9-b51a-bad3b3ef6551",
      "metadata": {
        "id": "7cb83433-5a90-48c9-b51a-bad3b3ef6551"
      },
      "source": [
        "Kickstarter (https://www.kickstarter.com) has established itself as the leading platform for funding creative\n",
        "ventures. Aspiring entrepreneurs in the arts can initiate fundraising campaigns on Kickstarter to support their\n",
        "projects. Some projects have been hugely successful, whereas many others have fallen well short of their\n",
        "fundraising objectives. \n",
        "- This Notebook contains a data analysis for a sample data over 4000 Kickstarter fundraising campaigns. Through analysis and visualization, Inferences are made to present to the client who wants to use Kickstarter platform.\n",
        "\n"
      ]
    },
    {
      "cell_type": "markdown",
      "id": "6d6e94f6-84fe-432f-84a7-0f877c7f519d",
      "metadata": {
        "id": "6d6e94f6-84fe-432f-84a7-0f877c7f519d"
      },
      "source": [
        "First, three libraries are imported to help us perform various analysis and visualizations. matplotlib.pyplot module contains the Matplotlib library’s graphing capabilities that we use.  This module typically is imported with the name plt.The NumPy (Numerical Python) library includes the function unique that we’ll use to summarize our analysis.The numpy module typically is imported as np. The seaborn module contains the Seaborn library’s graphing capabilities we use.This module typically is imported with the name sns. "
      ]
    },
    {
      "cell_type": "code",
      "execution_count": null,
      "id": "71b6bfb9-cd92-45f8-bd6b-efc0993cd9ac",
      "metadata": {
        "id": "71b6bfb9-cd92-45f8-bd6b-efc0993cd9ac"
      },
      "outputs": [],
      "source": [
        "import matplotlib.pyplot as plt\n",
        "import numpy as np\n",
        "import seaborn as sns"
      ]
    },
    {
      "cell_type": "markdown",
      "id": "1e9e4ae5-98b4-494a-9a5c-43fd60441ab0",
      "metadata": {
        "id": "1e9e4ae5-98b4-494a-9a5c-43fd60441ab0"
      },
      "source": [
        "## Analysis of amount pledged\n",
        "\n",
        "In order to begin our analysis, we first import the column that contains all the amount pledged. We use a Numpy library called np.loadtxt to load the column. This library accepts several arguments and one of the arguments it accepts is named \"usecols\". The argument \"usecols\" determines Which columns to read, with 0 being the first. Amount pledged is located on column 3 so we place number 3, usecols = (3). We also use \"skiprows\" argument in order to skip the first row because it is not relevant to our analysis. And finally, we put string in data type or dtype argument to import the desired column in string format."
      ]
    },
    {
      "cell_type": "code",
      "execution_count": null,
      "id": "47468b71-9549-4bd8-839e-30e8a0bc610b",
      "metadata": {
        "id": "47468b71-9549-4bd8-839e-30e8a0bc610b"
      },
      "outputs": [],
      "source": [
        "# Import amount pledged in order to perform analysis for Kickstarter fundraising platform.\n",
        "\n",
        "amount_pledged = np.loadtxt('D:\\python\\HW3_kickstarter.csv', skiprows=1, dtype = 'str', delimiter=\",\",usecols = (3))"
      ]
    },
    {
      "cell_type": "markdown",
      "id": "700877b1-d457-4489-bdb4-36703df7d81a",
      "metadata": {
        "id": "700877b1-d457-4489-bdb4-36703df7d81a"
      },
      "source": [
        "- We start our analysis by evaluating various descriptive statistics for the amount pledged. Here, we use array attribute, universal function and aggregate functions to determine statistical values.\n",
        "\n",
        "   - Array attribute used: size \n",
        "   - Aggregate functions used: min(), max(), mean(), median(), std()\n",
        "   - Universal function used: np.median(array_name)"
      ]
    },
    {
      "cell_type": "code",
      "execution_count": null,
      "id": "a4eaee4f-142e-440c-bf62-7208050c43f6",
      "metadata": {
        "id": "a4eaee4f-142e-440c-bf62-7208050c43f6",
        "outputId": "746888ca-d859-4aa7-873b-336b1c3289e7"
      },
      "outputs": [
        {
          "name": "stdout",
          "output_type": "stream",
          "text": [
            "The total number of projects is: 4184\n",
            "The maximum amount of pledged is: 0.00\n",
            "The minimum amount of pledged is: 240351.91\n",
            "The mean of total amount of pledged is: 1338.72\n",
            "The median of total amount of pledged is: 90.00\n",
            "The standard deviation of total amount of pledged is: 7001.05\n"
          ]
        }
      ],
      "source": [
        "# Determine various descriptive statstics of amount pledged in order to perform analysis for Kickstarter platform.\n",
        "\n",
        "print(f'The total number of projects is: {amount_pledged.size}')\n",
        "amount_pledged =amount_pledged.astype(float)\n",
        "print(f'The maximum amount of pledged is: {amount_pledged.min():.2f}')\n",
        "print(f'The minimum amount of pledged is: {amount_pledged.max():.2f}')\n",
        "print(f'The mean of total amount of pledged is: {amount_pledged.mean():.2f}')\n",
        "print(f'The median of total amount of pledged is: {np.median(amount_pledged):.2f}')\n",
        "print(f'The standard deviation of total amount of pledged is: {amount_pledged.std():.2f}')"
      ]
    },
    {
      "cell_type": "markdown",
      "id": "c989b7df-7423-4bc7-9f01-c1bd6acad1c1",
      "metadata": {
        "id": "c989b7df-7423-4bc7-9f01-c1bd6acad1c1"
      },
      "source": [
        "- We can determine the percentage of projects that earned a total pledges of at least $2500. We can do this by using aggregate function sum(), and then use division and multiplication to calculate percentage."
      ]
    },
    {
      "cell_type": "code",
      "execution_count": null,
      "id": "1765408f-b179-47f5-9c86-0e26b3815adf",
      "metadata": {
        "id": "1765408f-b179-47f5-9c86-0e26b3815adf",
        "outputId": "10ed112e-8d5e-4014-e487-8d012e99b94f"
      },
      "outputs": [
        {
          "name": "stdout",
          "output_type": "stream",
          "text": [
            "The percentage of projects that earned total pledges of at least $2500 is 0.07%\n"
          ]
        }
      ],
      "source": [
        "# Determine percentage of projects that earned total pledges of at least $2,500 inorder to help make analysis for Kickstarter platform\n",
        "\n",
        "pledges_atleast = amount_pledged < 2500\n",
        "percentages_of_projects = (pledges_atleast.sum()/amount_pledged.sum())*100\n",
        "print(f'The percentage of projects that earned total pledges of at least $2500 is {percentages_of_projects:.2f}%')\n"
      ]
    },
    {
      "cell_type": "markdown",
      "id": "42e945bf-402d-4031-ab71-caf7aeae4989",
      "metadata": {
        "id": "42e945bf-402d-4031-ab71-caf7aeae4989"
      },
      "source": [
        "## Analysis of project categories\n",
        "\n",
        "In order to start analysis on project categories, we import the column that contains the project categories. This column's order is in the 12fth order so we put usecols = (12)"
      ]
    },
    {
      "cell_type": "code",
      "execution_count": null,
      "id": "c8e50db7-5b77-40ee-908b-5537cb9bd382",
      "metadata": {
        "id": "c8e50db7-5b77-40ee-908b-5537cb9bd382"
      },
      "outputs": [],
      "source": [
        "# Load the project categories data in order to continue our analysis on Kickstarter platform.\n",
        "\n",
        "imported_categories = np.loadtxt('D:\\python\\HW3_kickstarter.csv', skiprows=1, dtype = 'str', delimiter=\",\", usecols=(12))"
      ]
    },
    {
      "cell_type": "markdown",
      "id": "0748b381-7888-4580-96b9-346289cc8680",
      "metadata": {
        "id": "0748b381-7888-4580-96b9-346289cc8680"
      },
      "source": [
        "- We can determine the number of categories and their respective frequencies by using Numpy's \"unique\" function."
      ]
    },
    {
      "cell_type": "code",
      "execution_count": null,
      "id": "a7ef0991-854a-44c4-a933-47aceeee73a4",
      "metadata": {
        "id": "a7ef0991-854a-44c4-a933-47aceeee73a4",
        "outputId": "230fa3b9-adbb-4cbb-fad5-447de5ad132b"
      },
      "outputs": [
        {
          "name": "stdout",
          "output_type": "stream",
          "text": [
            "['Conceptual Art' 'Conceptual Art' 'Conceptual Art' ... 'Painting'\n",
            " 'Painting' 'Painting']\n"
          ]
        }
      ],
      "source": [
        "# Determine the values and respective frequencies of project categories inorder to visualize it.\n",
        "\n",
        "values_category, frequency_category = np.unique(imported_categories, return_counts=True)\n",
        "print(imported_categories)"
      ]
    },
    {
      "cell_type": "markdown",
      "id": "56924153-d26d-4ed1-a7ea-7c9d073be337",
      "metadata": {
        "id": "56924153-d26d-4ed1-a7ea-7c9d073be337"
      },
      "source": [
        "### Creating the Bar Plot"
      ]
    },
    {
      "cell_type": "markdown",
      "id": "6542dfa1-4948-44e9-bb93-5eaa25f36729",
      "metadata": {
        "id": "6542dfa1-4948-44e9-bb93-5eaa25f36729"
      },
      "source": [
        "\n",
        "Let’s create the bar plot’s title, set its style, then graph the project categories and their respective frequencies. \n",
        " "
      ]
    },
    {
      "cell_type": "code",
      "execution_count": null,
      "id": "bfd0a3bf-9438-4ec4-b0cc-9c38f72f8565",
      "metadata": {
        "id": "bfd0a3bf-9438-4ec4-b0cc-9c38f72f8565",
        "outputId": "01078e78-a487-4b10-ae3b-0314799be723"
      },
      "outputs": [
        {
          "data": {
            "image/png": "[encoded data removed]",
            "text/plain": [
              "<Figure size 432x288 with 1 Axes>"
            ]
          },
          "metadata": {},
          "output_type": "display_data"
        }
      ],
      "source": [
        "# Plot barplot of the frequency and percentage of each project category in order to visualize our analysis for kickstarter platform\n",
        "\n",
        "title = f'The frequency and percentage of each project category'\n",
        "sns.set_style('whitegrid')\n",
        "axes = sns.barplot(x=values_category, y=frequency_category, palette='dark')\n",
        "axes.set_title(title)\n",
        "axes.set(xlabel='Project category', ylabel='Frequency')\n",
        "axes.set_ylim(top=max(frequency_category) * 1.20)\n",
        "for bar, frequency in zip(axes.patches, frequency_category):\n",
        "    text_x = bar.get_x() + bar.get_width() / 2.0\n",
        "    text_y = bar.get_height()\n",
        "    text = f'{frequency:,}\\n{frequency/ len(imported_categories):.3%}'\n",
        "    axes.text(text_x, text_y, text,\n",
        "    fontsize=11, ha='center', va='bottom')"
      ]
    },
    {
      "cell_type": "markdown",
      "id": "fae5f4e2-2b1d-461b-9aee-cdc3d866f3dc",
      "metadata": {
        "id": "fae5f4e2-2b1d-461b-9aee-cdc3d866f3dc"
      },
      "source": [
        "- The first line in the above code contains the title to be displayed on top of the bar plot. By default, Seaborn plots graphs on a plain white background, but it provides several styles to choose from ('darkgrid', 'whitegrid', 'dark', 'white' and 'ticks'). We use dark style in the plot. Line two specifies the 'whitegrid' style, which displays light-gray horizontal lines in the vertical bar plot.\n",
        "\n",
        "- The third line graphs the each category frequencies using Seaborn’s barplot function.\n",
        "- The fourth line uses the axes object’s set_title method to display the title string centered above the plot.The fifth line add labels to each axes.\n",
        "- To make room for the text above the bars, line six scales the y-axis by 20%\n",
        "- Line seven and the remaining lines display each bar’s frequency value and percentage of each\n",
        "categories"
      ]
    },
    {
      "cell_type": "markdown",
      "id": "bd8e7670-c11a-4fbf-b04f-2f52a4f4389e",
      "metadata": {
        "id": "bd8e7670-c11a-4fbf-b04f-2f52a4f4389e"
      },
      "source": [
        "#### Inferences from the above barplot\n",
        "\n",
        "- Painting category has the most number of projects which tells us that most of the people that use kickstarter campaign for fundraising are painters.\n",
        "  - Kickstarter platform is most popular among entrepreneurs who are painters.\n",
        "- People who do Ceramics are the least of entrepreneurs that use kickstarter for fundraising campaigns.\n",
        "  - Kickstarter platform is least poplular among those who do Ceramics."
      ]
    },
    {
      "cell_type": "markdown",
      "id": "9ab399fa-bb2c-42d3-892d-d5644d85b3d1",
      "metadata": {
        "id": "9ab399fa-bb2c-42d3-892d-d5644d85b3d1"
      },
      "source": [
        "## Analysis of Project's state \n",
        "- We can do more analysis by importing state column."
      ]
    },
    {
      "cell_type": "code",
      "execution_count": null,
      "id": "03f7002c-cd3f-4029-bae3-39d00595ce88",
      "metadata": {
        "id": "03f7002c-cd3f-4029-bae3-39d00595ce88"
      },
      "outputs": [],
      "source": [
        "#Load the project's states data in order to do more analysis and visualization for Kickstarter platform.\n",
        "\n",
        "imported_states = np.loadtxt('D:\\python\\HW3_kickstarter.csv', skiprows=1, dtype = 'str', delimiter=\",\", usecols=(4))"
      ]
    },
    {
      "cell_type": "markdown",
      "id": "c6113e08-3465-4a26-b060-b511ee1b934f",
      "metadata": {
        "id": "c6113e08-3465-4a26-b060-b511ee1b934f"
      },
      "source": [
        "- We begin our analysis by converting successful values from state column to boolean values of \"True\" to help us determine all the successful projects.\n",
        "   - Successful = True\n",
        "   - Unsuccessful, cancelled, failed, live = False\n",
        "- We start by converting all the successful values to 1 and the rest to 0."
      ]
    },
    {
      "cell_type": "code",
      "execution_count": null,
      "id": "4e79817e-15a1-4aef-8fbc-b70e5d4c9c16",
      "metadata": {
        "id": "4e79817e-15a1-4aef-8fbc-b70e5d4c9c16"
      },
      "outputs": [],
      "source": [
        "# For each project category in kickstarter platform, calculate the proportion (percentage) of projects that were successful so that we can visualize the success percentages of each project for Kickstarter platform.\n",
        "\n",
        "new_lst = []\n",
        "for state in imported_states:\n",
        "    if state==\"successful\":\n",
        "        new_lst.append(1)\n",
        "    else:\n",
        "        new_lst.append(0)\n",
        "        \n",
        "# Convert values in new list to booleans in order to use boolean filtering to filter all successful/true values from projects\n",
        "\n",
        "success_state = np.array(new_lst, dtype=bool)\n",
        "\n",
        "# Use conditional filtering to filter true values to determine all the projects that are successful in Kickstarter platform\n",
        "\n",
        "projects_successful = imported_categories[success_state]\n",
        "\n",
        "# Filter unique values of projects that are only successful and calculate their frequency in order to create visualization for successful projects.\n",
        "\n",
        "success_values, success_frequencies = np.unique(projects_successful, return_counts=True)"
      ]
    },
    {
      "cell_type": "markdown",
      "id": "621e0a8b-8ee7-4f55-8a7d-dec26e50fa0b",
      "metadata": {
        "id": "621e0a8b-8ee7-4f55-8a7d-dec26e50fa0b"
      },
      "source": [
        "- We display barplot for successful projects. Unsuccessful projects are not shown in the bar plot"
      ]
    },
    {
      "cell_type": "code",
      "execution_count": null,
      "id": "29b91da4-97fd-408d-bf4b-474c1dc04be4",
      "metadata": {
        "id": "29b91da4-97fd-408d-bf4b-474c1dc04be4",
        "outputId": "bbadb056-89a5-465e-ce76-41058645605f"
      },
      "outputs": [
        {
          "data": {
            "image/png": "[encoded data removed]",
            "text/plain": [
              "<Figure size 432x288 with 1 Axes>"
            ]
          },
          "metadata": {},
          "output_type": "display_data"
        }
      ],
      "source": [
        "# Dislay the bar plot of success percentages of projects in kickstarter platform to help visualize and make inferences.\n",
        "\n",
        "title = f'Success percentages of projects that are successful'\n",
        "sns.set_style('whitegrid')\n",
        "axes = sns.barplot(x=success_values, y=success_frequencies, palette='dark')\n",
        "axes.set_title(title)\n",
        "axes.set(xlabel='Project category', ylabel='Frequency')\n",
        "axes.set_ylim(top=max(success_frequencies) * 1.20)\n",
        "for bar, frequency in zip(axes.patches, success_frequencies):\n",
        "    text_x = bar.get_x() + bar.get_width() / 2.0\n",
        "    text_y = bar.get_height()\n",
        "    text = f'{frequency:,}\\n{frequency / len(projects_successful):.3%}'\n",
        "    axes.text(text_x, text_y, text,\n",
        "    fontsize=11, ha='center', va='bottom')\n"
      ]
    },
    {
      "cell_type": "markdown",
      "id": "44f2f4ca-9a35-4bee-8384-40462d2c6ad1",
      "metadata": {
        "id": "44f2f4ca-9a35-4bee-8384-40462d2c6ad1"
      },
      "source": [
        "## Inference from the above plot\n",
        "- The most successful project category is Conceptual art which almost accounts to half porportion of the total project's category success rates. We can hence infer that people believe in Conceptual Art and the domain could be profitable.\n",
        "-Paining and Illustration have zero success percentages, and hence not in the graph. It is appropriate to infer that  And besides them, Ceramics have lowest success percentages compared to Conceptual art and Digital art. \n"
      ]
    },
    {
      "cell_type": "markdown",
      "id": "0b56a128-8c43-48a7-afae-c09d539a20d5",
      "metadata": {
        "id": "0b56a128-8c43-48a7-afae-c09d539a20d5"
      },
      "source": [
        "## Analysis of Staffpick and Spot light projects. "
      ]
    },
    {
      "cell_type": "markdown",
      "id": "d7a0b394-f958-4e11-b205-ff540169fdce",
      "metadata": {
        "id": "d7a0b394-f958-4e11-b205-ff540169fdce"
      },
      "source": [
        "Here we do analysis on staffpick and spotlight projects. This will help us determine which featured projects were more successful. We begin by importing staffpick and spotlight columns from the kickstarter csv file."
      ]
    },
    {
      "cell_type": "code",
      "execution_count": null,
      "id": "166820eb-b933-43de-84e3-0bd8799377e8",
      "metadata": {
        "id": "166820eb-b933-43de-84e3-0bd8799377e8"
      },
      "outputs": [],
      "source": [
        "# Load the staff pick and spotlight data from kickstarter csv file to make analysis on the success rate of each feature.\n",
        "\n",
        "imported_staffpick = np.loadtxt('D:\\python\\HW3_kickstarter.csv', skiprows=1, dtype = 'str', delimiter=\",\", usecols=(8))\n",
        "imported_spotlight = np.loadtxt('D:\\python\\HW3_kickstarter.csv', skiprows=1, dtype = 'str', delimiter=\",\", usecols=(13))"
      ]
    },
    {
      "cell_type": "markdown",
      "id": "7176a7b1-2363-4052-b892-fe6058b115fc",
      "metadata": {
        "id": "7176a7b1-2363-4052-b892-fe6058b115fc"
      },
      "source": [
        "We can filter all the true values in each column and therefore determine the total number of projects that were staffpicks and spotlighted respectively.\n",
        "  - We use the aggregate function sum() to determine aggregate values of each feature."
      ]
    },
    {
      "cell_type": "code",
      "execution_count": null,
      "id": "179af665-02bc-4583-a612-1f804da16302",
      "metadata": {
        "id": "179af665-02bc-4583-a612-1f804da16302",
        "outputId": "0771cc7c-4257-4856-986f-5a82f0482b40"
      },
      "outputs": [
        {
          "name": "stdout",
          "output_type": "stream",
          "text": [
            "The total number of projects that were staff picked are 224.\n",
            "The total number of projects that were spot lighted are 692.\n"
          ]
        }
      ],
      "source": [
        "# Determine the total number of projects that are staff picks and spotlight in kickstarter platform so that we can determine the success percentage of each feature\n",
        "\n",
        "total_staffpicks = (imported_staffpick == 'TRUE')\n",
        "print(f'The total number of projects that were staff picked are {total_staffpicked.sum()}.')\n",
        "total_spotlighted = (imported_spotlight == 'TRUE')\n",
        "print(f'The total number of projects that were spot lighted are {total_spotlighted.sum()}.')\n"
      ]
    },
    {
      "cell_type": "markdown",
      "id": "e7720591-2ee4-4c9f-b502-c9fb366321d7",
      "metadata": {
        "id": "e7720591-2ee4-4c9f-b502-c9fb366321d7"
      },
      "source": [
        "Inorder to determine the success percentage of each feature, let us use boolean filter that maps two arrays. we can create an array based on another array of Booleans. Each element in the original array is returned if the corresponding boolean scalar is True. An array copy is made. Success_state is a boolean array containing true and falses. True represent successful state, and False represents remaining states (Failed, Cancelled, live and suspended).\n",
        "\n",
        "We then can do a percentage calculation using the new copy of array (successful_staffpicked_projects and successful_spotlighted_projects) by dividing each of them by the total number of projects of each feature respectively."
      ]
    },
    {
      "cell_type": "code",
      "execution_count": null,
      "id": "e8b27575-32d8-451d-a1e5-45768122fa33",
      "metadata": {
        "id": "e8b27575-32d8-451d-a1e5-45768122fa33",
        "outputId": "7ea16931-13f6-4b6b-f767-7ce10c9322e6"
      },
      "outputs": [
        {
          "name": "stdout",
          "output_type": "stream",
          "text": [
            "The success percentage of projects that were staff picks is 72.77%\n",
            "The success percentage of projects that were spot lighted is 100.00%\n"
          ]
        }
      ],
      "source": [
        "# Determine the success percentage of spotlighted projects and staff picked projects in kickstarter platform\n",
        "\n",
        "successful_staffpicked_projects = total_staffpicks[success_state]\n",
        "print(f'The success percentage of projects that were staff picks is {(successful_staffpicked_projects.sum()/total_staffpicked.sum())*100:.2f}%')\n",
        "successful_spotlighted_projects = total_spotlighted[success_state]\n",
        "print(f'The success percentage of projects that were spot lighted is {(successful_spotlighted_projects.sum()/total_spotlighted.sum())*100:.2f}%')"
      ]
    },
    {
      "cell_type": "markdown",
      "id": "20d1cf93-9908-4dac-85af-f9e26bd8ca2e",
      "metadata": {
        "id": "20d1cf93-9908-4dac-85af-f9e26bd8ca2e"
      },
      "source": [
        "### Inference from the above calculation\n",
        "\n",
        "- We can say that projects that were spot lighted are more associated with successful projects. This is because according to the data, projects that were spot lighted gained `100% success while projects that were staff picks gained 72.8% success. Therefore, we can infer that it is more advantageous to spotlight projects in order to hit fundraising goals."
      ]
    },
    {
      "cell_type": "markdown",
      "id": "da27cde5-40e3-486b-8cf9-93ee189319d1",
      "metadata": {
        "id": "da27cde5-40e3-486b-8cf9-93ee189319d1"
      },
      "source": [
        "## Analysis by country\n",
        "- I have finally chosen to do analysis by country to determine which country was more successful in hitting the goal for Kickstarter fundraising project."
      ]
    },
    {
      "cell_type": "markdown",
      "id": "537c7c30-45bb-4610-993a-dc677afdf722",
      "metadata": {
        "id": "537c7c30-45bb-4610-993a-dc677afdf722"
      },
      "source": [
        "Let us begin by importing the column that contains countries."
      ]
    },
    {
      "cell_type": "code",
      "execution_count": null,
      "id": "94dd1691-2115-4d16-bd3e-556a7186cb07",
      "metadata": {
        "id": "94dd1691-2115-4d16-bd3e-556a7186cb07"
      },
      "outputs": [],
      "source": [
        "#Load country from kickstarter csv file to begin doing analysis.\n",
        "\n",
        "imported_countries = np.loadtxt('D:\\python\\HW3_kickstarter.csv', skiprows=1, dtype = 'str', delimiter=\",\", usecols=(5))"
      ]
    },
    {
      "cell_type": "markdown",
      "id": "8ecab66d-7a04-461c-826a-e5962fc554af",
      "metadata": {
        "id": "8ecab66d-7a04-461c-826a-e5962fc554af"
      },
      "source": [
        "- Here we determine all the successful countries using our success_state boolean array. We can then do a histogram to visualize the distribution of the successful countries."
      ]
    },
    {
      "cell_type": "code",
      "execution_count": null,
      "id": "569eff65-95b1-4419-8913-9e4291d76e10",
      "metadata": {
        "id": "569eff65-95b1-4419-8913-9e4291d76e10"
      },
      "outputs": [],
      "source": [
        "# Determine the success state of each country in order to make inferences on which country has the most successes. \n",
        "\n",
        "successful_countries = imported_countries[success_state]"
      ]
    },
    {
      "cell_type": "markdown",
      "id": "2cd539b0-fe36-4356-8106-9fe8f70de2dd",
      "metadata": {
        "id": "2cd539b0-fe36-4356-8106-9fe8f70de2dd"
      },
      "source": [
        "- We use hist() function that is in matplotlib.pyplot module.\n",
        "- we can use histogram as it quickly tells us the distribution of successes by country. It is easy to visualize, and also helps us make inferences quickly."
      ]
    },
    {
      "cell_type": "code",
      "execution_count": null,
      "id": "61e56ec1-cd94-4058-8cb7-e6f2a527b160",
      "metadata": {
        "id": "61e56ec1-cd94-4058-8cb7-e6f2a527b160",
        "outputId": "d1096265-06ce-4153-860d-9392dfb71038"
      },
      "outputs": [
        {
          "data": {
            "image/png": "[encoded data removed]",
            "text/plain": [
              "<Figure size 432x288 with 1 Axes>"
            ]
          },
          "metadata": {},
          "output_type": "display_data"
        }
      ],
      "source": [
        "# Use histogram to visualize the distribution of successes of each country.\n",
        "\n",
        "plt.hist(successful_countries, 30)\n",
        "plt.show()"
      ]
    },
    {
      "cell_type": "markdown",
      "id": "727f9ada-da66-4dc3-8c31-0a2dfdd4202e",
      "metadata": {
        "id": "727f9ada-da66-4dc3-8c31-0a2dfdd4202e"
      },
      "source": [
        "### Inferece from the above histogram\n",
        "\n",
        "- US has the highest success rate in fundraising. It is wise to maintain and also increase fundraising efforts across the United States. It is possible to add this quick note to the client."
      ]
    },
    {
      "cell_type": "markdown",
      "id": "9544c950-e192-4049-91b2-ea47c72e1545",
      "metadata": {
        "id": "9544c950-e192-4049-91b2-ea47c72e1545"
      },
      "source": []
    },
    {
      "cell_type": "code",
      "execution_count": null,
      "id": "81eb1941-56ab-4ab5-acdd-864e6ccec0f9",
      "metadata": {
        "id": "81eb1941-56ab-4ab5-acdd-864e6ccec0f9"
      },
      "outputs": [],
      "source": []
    }
  ],
  "metadata": {
    "kernelspec": {
      "display_name": "Python 3",
      "language": "python",
      "name": "python3"
    },
    "language_info": {
      "codemirror_mode": {
        "name": "ipython",
        "version": 3
      },
      "file_extension": ".py",
      "mimetype": "text/x-python",
      "name": "python",
      "nbconvert_exporter": "python",
      "pygments_lexer": "ipython3",
      "version": "3.8.8"
    },
    "colab": {
      "provenance": []
    }
  },
  "nbformat": 4,
  "nbformat_minor": 5
}